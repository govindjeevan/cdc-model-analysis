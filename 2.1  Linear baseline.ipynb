{
 "cells": [
  {
   "cell_type": "code",
   "execution_count": 26,
   "id": "northern-infection",
   "metadata": {},
   "outputs": [],
   "source": [
    "import data_load\n",
    "import pandas as pd\n",
    "import glob\n",
    "import matplotlib.pyplot as plt \n",
    "import numpy as np\n",
    "from datetime import datetime, timedelta"
   ]
  },
  {
   "cell_type": "code",
   "execution_count": 27,
   "id": "stopped-california",
   "metadata": {},
   "outputs": [],
   "source": [
    "jhu_weekly = data_load.get_jhu_dataframe_weekly ()"
   ]
  },
  {
   "cell_type": "code",
   "execution_count": 31,
   "id": "worldwide-sandwich",
   "metadata": {},
   "outputs": [],
   "source": [
    "baseline2 = {}\n",
    "\n",
    "for i in jhu_weekly.index:\n",
    "    \n",
    "    date = i.date().strftime('%Y-%m-%d')\n",
    "    prevPrevDate = data_load.add_days(date, -(7*5))\n",
    "    prevDate = data_load.add_days(date, -(7*4))\n",
    "    \n",
    "    if prevPrevDate in jhu_weekly.index and prevDate in jhu_weekly.index:\n",
    "        baseline2[date] = jhu_weekly.loc[prevDate, \"WeeklyCases\"] + (jhu_weekly.loc[prevDate, \"WeeklyCases\"] - jhu_weekly.loc[prevPrevDate, \"WeeklyCases\"])"
   ]
  },
  {
   "cell_type": "code",
   "execution_count": 32,
   "id": "round-scheme",
   "metadata": {},
   "outputs": [],
   "source": [
    "baseline2_df = pd.DataFrame.from_dict(baseline2,orient='index', columns=['Point']).sort_index(ascending=True)"
   ]
  },
  {
   "cell_type": "code",
   "execution_count": null,
   "id": "flexible-bundle",
   "metadata": {},
   "outputs": [],
   "source": []
  }
 ],
 "metadata": {
  "kernelspec": {
   "display_name": "Python 3",
   "language": "python",
   "name": "python3"
  },
  "language_info": {
   "codemirror_mode": {
    "name": "ipython",
    "version": 3
   },
   "file_extension": ".py",
   "mimetype": "text/x-python",
   "name": "python",
   "nbconvert_exporter": "python",
   "pygments_lexer": "ipython3",
   "version": "3.8.5"
  }
 },
 "nbformat": 4,
 "nbformat_minor": 5
}
