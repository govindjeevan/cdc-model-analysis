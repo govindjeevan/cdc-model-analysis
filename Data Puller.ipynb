{
 "cells": [
  {
   "cell_type": "code",
   "execution_count": 1,
   "id": "phantom-ozone",
   "metadata": {},
   "outputs": [],
   "source": [
    "import requests\n",
    "from datetime import datetime, timedelta\n",
    "\n",
    "ROOT = \"https://api.github.com/repos/reichlab/covid19-forecast-hub/contents/data-processed\""
   ]
  },
  {
   "cell_type": "code",
   "execution_count": 6,
   "id": "surface-heating",
   "metadata": {},
   "outputs": [],
   "source": [
    "cur_date = datetime.strptime('2020-04-13', \"%Y-%m-%d\")\n",
    "dates = []\n",
    "\n",
    "while( cur_date < datetime.now() ):\n",
    "    dates.append(cur_date.strftime('%Y-%m-%d'))\n",
    "    cur_date = cur_date + timedelta(days=7)\n"
   ]
  },
  {
   "cell_type": "code",
   "execution_count": 8,
   "id": "dedicated-proceeding",
   "metadata": {},
   "outputs": [
    {
     "data": {
      "text/plain": [
       "['2020-04-13',\n",
       " '2020-04-20',\n",
       " '2020-04-27',\n",
       " '2020-05-04',\n",
       " '2020-05-11',\n",
       " '2020-05-18',\n",
       " '2020-05-25',\n",
       " '2020-06-01',\n",
       " '2020-06-08',\n",
       " '2020-06-15',\n",
       " '2020-06-22',\n",
       " '2020-06-29',\n",
       " '2020-07-06',\n",
       " '2020-07-13',\n",
       " '2020-07-20',\n",
       " '2020-07-27',\n",
       " '2020-08-03',\n",
       " '2020-08-10',\n",
       " '2020-08-17',\n",
       " '2020-08-24',\n",
       " '2020-08-31',\n",
       " '2020-09-07',\n",
       " '2020-09-14',\n",
       " '2020-09-21',\n",
       " '2020-09-28',\n",
       " '2020-10-05',\n",
       " '2020-10-12',\n",
       " '2020-10-19',\n",
       " '2020-10-26',\n",
       " '2020-11-02',\n",
       " '2020-11-09',\n",
       " '2020-11-16',\n",
       " '2020-11-23',\n",
       " '2020-11-30',\n",
       " '2020-12-07',\n",
       " '2020-12-14',\n",
       " '2020-12-21',\n",
       " '2020-12-28',\n",
       " '2021-01-04',\n",
       " '2021-01-11',\n",
       " '2021-01-18',\n",
       " '2021-01-25',\n",
       " '2021-02-01',\n",
       " '2021-02-08',\n",
       " '2021-02-15',\n",
       " '2021-02-22',\n",
       " '2021-03-01',\n",
       " '2021-03-08',\n",
       " '2021-03-15',\n",
       " '2021-03-22',\n",
       " '2021-03-29',\n",
       " '2021-04-05',\n",
       " '2021-04-12',\n",
       " '2021-04-19',\n",
       " '2021-04-26',\n",
       " '2021-05-03',\n",
       " '2021-05-10',\n",
       " '2021-05-17',\n",
       " '2021-05-24',\n",
       " '2021-05-31',\n",
       " '2021-06-07',\n",
       " '2021-06-14',\n",
       " '2021-06-21',\n",
       " '2021-06-28',\n",
       " '2021-07-05',\n",
       " '2021-07-12',\n",
       " '2021-07-19',\n",
       " '2021-07-26',\n",
       " '2021-08-02',\n",
       " '2021-08-09',\n",
       " '2021-08-16',\n",
       " '2021-08-23',\n",
       " '2021-08-30',\n",
       " '2021-09-06',\n",
       " '2021-09-13',\n",
       " '2021-09-20',\n",
       " '2021-09-27']"
      ]
     },
     "execution_count": 8,
     "metadata": {},
     "output_type": "execute_result"
    }
   ],
   "source": [
    "dates"
   ]
  },
  {
   "cell_type": "code",
   "execution_count": null,
   "id": "prompt-marine",
   "metadata": {},
   "outputs": [],
   "source": []
  },
  {
   "cell_type": "code",
   "execution_count": null,
   "id": "behavioral-clause",
   "metadata": {},
   "outputs": [],
   "source": []
  }
 ],
 "metadata": {
  "kernelspec": {
   "display_name": "Python 3",
   "language": "python",
   "name": "python3"
  },
  "language_info": {
   "codemirror_mode": {
    "name": "ipython",
    "version": 3
   },
   "file_extension": ".py",
   "mimetype": "text/x-python",
   "name": "python",
   "nbconvert_exporter": "python",
   "pygments_lexer": "ipython3",
   "version": "3.8.5"
  }
 },
 "nbformat": 4,
 "nbformat_minor": 5
}
