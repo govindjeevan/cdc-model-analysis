{
 "cells": [
  {
   "cell_type": "code",
   "execution_count": 1,
   "id": "joint-cabinet",
   "metadata": {},
   "outputs": [],
   "source": [
    "# autoreload libaries\n",
    "%load_ext autoreload\n",
    "%autoreload 2"
   ]
  },
  {
   "cell_type": "code",
   "execution_count": 29,
   "id": "extensive-concentrate",
   "metadata": {},
   "outputs": [
    {
     "name": "stderr",
     "output_type": "stream",
     "text": [
      "/opt/conda/lib/python3.8/site-packages/IPython/core/interactiveshell.py:3347: DtypeWarning: Columns (0) have mixed types.Specify dtype option on import or set low_memory=False.\n",
      "  if (await self.run_code(code, result,  async_=asy)):\n"
     ]
    }
   ],
   "source": [
    "import data_load\n",
    "import pandas as pd\n",
    "import glob\n",
    "import matplotlib.pyplot as plt \n",
    "import numpy as np\n",
    "from datetime import datetime, timedelta\n",
    "\n",
    "\n",
    "cdc_frames = data_load.get_cdc_dataframe ()\n",
    "jhu_frames = data_load.get_jhu_dataframe ()\n",
    "jhu_weekly_df = data_load.get_jhu_dataframe_weekly ()\n",
    "baseline2_df = data_load.get_linear_baseline()\n",
    "\n",
    "ensemble_eligibility_df = data_load.get_ensemble_eligibility_dataframe()\n",
    "\n",
    "\n",
    "cdc_frames.loc[cdc_frames.Model == \"COVIDhub-baseline\", \"Model\"] = \"Baseline I\""
   ]
  },
  {
   "cell_type": "code",
   "execution_count": 31,
   "id": "daily-danish",
   "metadata": {},
   "outputs": [
    {
     "data": {
      "text/plain": [
       "array(['2021-04-26', '2021-06-28', '2020-07-06', '2020-09-07',\n",
       "       '2021-02-01', '2021-01-11', '2020-10-05', '2021-05-03',\n",
       "       '2021-04-19', '2021-03-08', '2021-03-01', '2020-10-12',\n",
       "       '2020-09-21', '2021-06-14', '2021-04-05', '2020-10-19',\n",
       "       '2020-09-28', '2020-12-21', '2021-02-08', '2020-11-30',\n",
       "       '2020-07-27', '2020-07-20', '2021-01-04', '2021-01-25',\n",
       "       '2020-08-17', '2020-08-31', '2020-11-23', '2021-02-15',\n",
       "       '2020-08-24', '2020-07-13', '2021-06-21', '2020-11-02',\n",
       "       '2020-11-09', '2021-05-31', '2020-08-03', '2020-08-10',\n",
       "       '2021-05-10', '2020-12-28', '2021-03-15', '2021-02-22',\n",
       "       '2021-05-24', '2020-06-29', '2021-06-07', '2021-01-18',\n",
       "       '2020-12-07', '2021-03-29', '2020-09-14', '2021-04-12',\n",
       "       '2021-03-22', '2020-10-26', '2020-12-14', '2021-05-17'],\n",
       "      dtype=object)"
      ]
     },
     "execution_count": 31,
     "metadata": {},
     "output_type": "execute_result"
    }
   ],
   "source": [
    "cdc_frames.forecast_date.unique()"
   ]
  },
  {
   "cell_type": "code",
   "execution_count": 41,
   "id": "saved-kazakhstan",
   "metadata": {},
   "outputs": [],
   "source": [
    "def ensemble_forecast(cdc_frames, model_weights, forecast_date, horizon=4):\n",
    "    numerator = 0\n",
    "    denominator = 0\n",
    "    \n",
    "    for model in model_weights.keys():\n",
    "        if not data_load.check_ensemble_eligiblity(ensemble_eligibility_df, model, forecast_date):\n",
    "            continue\n",
    "        pred = cdc_frames[(cdc_frames.Model == model) & (cdc_frames.forecast_date == forecast_date) & (cdc_frames.target == str(horizon) +\" wk ahead inc case\" )]\n",
    "        pred_point = pred.point.values\n",
    "        if len(pred_point)>0:\n",
    "            pred_point = pred_point[0]\n",
    "        else:\n",
    "            continue\n",
    "        numerator += pred_point*model_weights[model]\n",
    "        denominator += model_weights[model]\n",
    "    if denominator == 0:\n",
    "        return None\n",
    "    else:\n",
    "        return round(numerator/denominator, 2)"
   ]
  },
  {
   "cell_type": "code",
   "execution_count": 42,
   "id": "based-blake",
   "metadata": {},
   "outputs": [],
   "source": [
    "def get_model_weights_for_forecast_date(cdc_frames, eligibility_frame, jhu_weekly_df, cur_forecast_date, earliest_forecast_date, last_forecast_date):\n",
    "    model_weights = {}\n",
    "    for model in cdc_frames.Model.unique():\n",
    "        if data_load.check_ensemble_eligiblity(eligibility_frame, model, cur_forecast_date):\n",
    "            model_frame = data_load.get_model_by_date_range(model, cdc_frames, 4, start=earliest_forecast_date, end = last_forecast_date)\n",
    "            mae, pred_count = data_load.get_mae(model_frame, jhu_weekly_df, earliest_forecast_date, last_forecast_date)\n",
    "            if pred_count > 0:\n",
    "                #model_weights[model] = 1/mae\n",
    "                model_weights[model] = 1\n",
    "    return model_weights"
   ]
  },
  {
   "cell_type": "code",
   "execution_count": 43,
   "id": "provincial-viking",
   "metadata": {},
   "outputs": [],
   "source": [
    "def get_ensemble_preds (cdc_frames, eligibility_frame, weight_function, lookback_weeks = None):\n",
    "    forecasts = {}\n",
    "    earliest_forecast_date = \"2020-02-15\"\n",
    "    for forecast_date in cdc_frames.forecast_date.unique():\n",
    "        \n",
    "        if lookback_weeks is not None:\n",
    "            earliest_forecast_date = data_load.add_days(forecast_date, -7*lookback_weeks)\n",
    "        last_forecast_date = data_load.add_days(forecast_date, -7)\n",
    "\n",
    "        cdc_period_frame = cdc_frames[(cdc_frames.target_end_date<=last_forecast_date) & (cdc_frames.target_end_date>=earliest_forecast_date)]\n",
    "        \n",
    "        pred_target_date = data_load.add_days(forecast_date, 7*4)\n",
    "        \n",
    "        model_weights = weight_function(cdc_frames, eligibility_frame, jhu_weekly_df, forecast_date, earliest_forecast_date, last_forecast_date)\n",
    "        forecast = ensemble_forecast(cdc_frames, model_weights, forecast_date, horizon=4)\n",
    "        \n",
    "        if forecast is not None:\n",
    "            forecasts[pred_target_date] = forecast \n",
    "\n",
    "    ensemble_pred_df = pd.DataFrame.from_dict(forecasts, orient='index', columns=['point'])\n",
    "    ensemble_pred_df[\"target_end_date\"]=pd.to_datetime(ensemble_pred_df.index)\n",
    "    ensemble_pred_df = ensemble_pred_df.set_index(\"target_end_date\", drop=True).sort_index(ascending=True)\n",
    "    return ensemble_pred_df"
   ]
  },
  {
   "cell_type": "code",
   "execution_count": 44,
   "id": "ongoing-search",
   "metadata": {},
   "outputs": [],
   "source": [
    "ensemble_pred_df = get_ensemble_preds(cdc_frames,ensemble_eligibility_df,get_model_weights_for_forecast_date, lookback_weeks=None)"
   ]
  },
  {
   "cell_type": "code",
   "execution_count": 45,
   "id": "liberal-wrestling",
   "metadata": {},
   "outputs": [],
   "source": [
    "covidhub_df = data_load.get_model_by_date_range(\"COVIDhub-ensemble\", cdc_frames, 4, start=\"2020-02-15\", end = None)"
   ]
  },
  {
   "cell_type": "code",
   "execution_count": 46,
   "id": "differential-mathematics",
   "metadata": {},
   "outputs": [
    {
     "data": {
      "image/png": "[encoded data removed]",
      "text/plain": [
       "<Figure size 1200x640 with 1 Axes>"
      ]
     },
     "metadata": {
      "needs_background": "light"
     },
     "output_type": "display_data"
    }
   ],
   "source": [
    "from matplotlib.pyplot import figure\n",
    "figure(figsize=(15, 8), dpi=80)\n",
    "\n",
    "plt.plot(ensemble_pred_df[\"point\"], label=\"Error Weighted Ensemble\")\n",
    "plt.plot(jhu_weekly_df[\"WeeklyCases\"], label=\"JHU\")\n",
    "plt.plot(covidhub_df[\"point\"], label=\"COVIDhub-ensemble\")\n",
    "plt.legend()\n",
    "plt.show()"
   ]
  },
  {
   "cell_type": "code",
   "execution_count": null,
   "id": "welsh-missouri",
   "metadata": {},
   "outputs": [],
   "source": [
    "from matplotlib.pyplot import figure\n",
    "figure(figsize=(15, 8), dpi=80)\n",
    "\n",
    "plt.plot(ensemble_pred_df[\"point\"], label=\"Error Weighted Ensemble\")\n",
    "plt.plot(jhu_weekly_df[\"WeeklyCases\"], label=\"JHU\")\n",
    "plt.plot(covidhub_df[\"point\"], label=\"COVIDhub-ensemble\")\n",
    "plt.legend()\n",
    "plt.show()"
   ]
  },
  {
   "cell_type": "code",
   "execution_count": null,
   "id": "reserved-battle",
   "metadata": {},
   "outputs": [],
   "source": []
  },
  {
   "cell_type": "code",
   "execution_count": 48,
   "id": "defined-commissioner",
   "metadata": {},
   "outputs": [
    {
     "data": {
      "text/plain": [
       "array(['BPagano-RtDriven', 'CEID-Walk', 'Baseline I', 'COVIDhub-ensemble',\n",
       "       'CU-nochange', 'CU-scenario_high', 'CU-scenario_low',\n",
       "       'CU-scenario_mid', 'CU-select', 'Columbia_UNC-SurvCon',\n",
       "       'Covid19Sim-Simulator', 'CovidAnalytics-DELPHI',\n",
       "       'FDANIHASU-Sweight', 'FRBSF_Wilson-Econometric',\n",
       "       'Geneva-DetGrowth', 'IBF-TimeSeries', 'IEM_MED-CovidProject',\n",
       "       'IUPUI-HkPrMobiDyR', 'IowaStateLW-STEM', 'JHUAPL-Bucky',\n",
       "       'JHU_CSSE-DECOM', 'JHU_IDD-CovidSP',\n",
       "       'KITmetricslab-select_ensemble', 'Karlen-pypm', 'LANL-GrowthRate',\n",
       "       'LNQ-ens1', 'MIT_ISOLAT-Mixtures', 'MOBS-GLEAM_COVID',\n",
       "       'Microsoft-DeepSTIA', 'OliverWyman-Navigator',\n",
       "       'RobertWalraven-ESG', 'TTU-squider', 'UCF-AEM',\n",
       "       'UChicagoCHATTOPADHYAY-UnIT', 'UMich-RidgeTfReg', 'USC-SI_kJalpha',\n",
       "       'UVA-Ensemble', 'UpstateSU-GRU', 'COVIDhub-trained_ensemble',\n",
       "       'MIT-Cassandra', 'MUNI-ARIMA', 'UCLA-SuEIR', 'USACE-ERDC_SEIR',\n",
       "       'DDS-NBDS', 'IQVIA_ACOE-STAN', 'JCB-PRM', 'QJHong-Encounter',\n",
       "       'OneQuietNight-ML', 'SigSci-TS', 'MSRA-DeepST',\n",
       "       'USC-SI_kJalpha_RF'], dtype=object)"
      ]
     },
     "execution_count": 48,
     "metadata": {},
     "output_type": "execute_result"
    }
   ],
   "source": [
    "cdc_frames.Model.unique()"
   ]
  },
  {
   "cell_type": "code",
   "execution_count": 53,
   "id": "mounted-notebook",
   "metadata": {},
   "outputs": [
    {
     "data": {
      "text/html": [
       "<div>\n",
       "<style scoped>\n",
       "    .dataframe tbody tr th:only-of-type {\n",
       "        vertical-align: middle;\n",
       "    }\n",
       "\n",
       "    .dataframe tbody tr th {\n",
       "        vertical-align: top;\n",
       "    }\n",
       "\n",
       "    .dataframe thead th {\n",
       "        text-align: right;\n",
       "    }\n",
       "</style>\n",
       "<table border=\"1\" class=\"dataframe\">\n",
       "  <thead>\n",
       "    <tr style=\"text-align: right;\">\n",
       "      <th></th>\n",
       "      <th>point</th>\n",
       "    </tr>\n",
       "    <tr>\n",
       "      <th>target_end_date</th>\n",
       "      <th></th>\n",
       "    </tr>\n",
       "  </thead>\n",
       "  <tbody>\n",
       "    <tr>\n",
       "      <th>2021-03-22</th>\n",
       "      <td>1.062508e+06</td>\n",
       "    </tr>\n",
       "    <tr>\n",
       "      <th>2021-03-29</th>\n",
       "      <td>1.183531e+06</td>\n",
       "    </tr>\n",
       "    <tr>\n",
       "      <th>2021-04-05</th>\n",
       "      <td>4.215374e+05</td>\n",
       "    </tr>\n",
       "    <tr>\n",
       "      <th>2021-04-12</th>\n",
       "      <td>1.342039e+07</td>\n",
       "    </tr>\n",
       "    <tr>\n",
       "      <th>2021-04-19</th>\n",
       "      <td>4.696121e+07</td>\n",
       "    </tr>\n",
       "    <tr>\n",
       "      <th>2021-04-26</th>\n",
       "      <td>2.168514e+06</td>\n",
       "    </tr>\n",
       "  </tbody>\n",
       "</table>\n",
       "</div>"
      ],
      "text/plain": [
       "                        point\n",
       "target_end_date              \n",
       "2021-03-22       1.062508e+06\n",
       "2021-03-29       1.183531e+06\n",
       "2021-04-05       4.215374e+05\n",
       "2021-04-12       1.342039e+07\n",
       "2021-04-19       4.696121e+07\n",
       "2021-04-26       2.168514e+06"
      ]
     },
     "execution_count": 53,
     "metadata": {},
     "output_type": "execute_result"
    }
   ],
   "source": [
    "data_load.get_model_by_date_range(\"DDS-NBDS\", cdc_frames, 4, start=\"2021-03-15\", end = \"2021-06-15\")"
   ]
  },
  {
   "cell_type": "code",
   "execution_count": 55,
   "id": "neither-precipitation",
   "metadata": {},
   "outputs": [
    {
     "data": {
      "text/html": [
       "<div>\n",
       "<style scoped>\n",
       "    .dataframe tbody tr th:only-of-type {\n",
       "        vertical-align: middle;\n",
       "    }\n",
       "\n",
       "    .dataframe tbody tr th {\n",
       "        vertical-align: top;\n",
       "    }\n",
       "\n",
       "    .dataframe thead th {\n",
       "        text-align: right;\n",
       "    }\n",
       "</style>\n",
       "<table border=\"1\" class=\"dataframe\">\n",
       "  <thead>\n",
       "    <tr style=\"text-align: right;\">\n",
       "      <th></th>\n",
       "      <th>point</th>\n",
       "    </tr>\n",
       "    <tr>\n",
       "      <th>target_end_date</th>\n",
       "      <th></th>\n",
       "    </tr>\n",
       "  </thead>\n",
       "  <tbody>\n",
       "    <tr>\n",
       "      <th>2021-03-15</th>\n",
       "      <td>50821.714286</td>\n",
       "    </tr>\n",
       "    <tr>\n",
       "      <th>2021-03-22</th>\n",
       "      <td>39623.714286</td>\n",
       "    </tr>\n",
       "    <tr>\n",
       "      <th>2021-03-29</th>\n",
       "      <td>43635.714286</td>\n",
       "    </tr>\n",
       "    <tr>\n",
       "      <th>2021-04-05</th>\n",
       "      <td>44756.000000</td>\n",
       "    </tr>\n",
       "    <tr>\n",
       "      <th>2021-04-12</th>\n",
       "      <td>38909.571429</td>\n",
       "    </tr>\n",
       "    <tr>\n",
       "      <th>2021-04-19</th>\n",
       "      <td>43832.428571</td>\n",
       "    </tr>\n",
       "    <tr>\n",
       "      <th>2021-04-26</th>\n",
       "      <td>62449.571429</td>\n",
       "    </tr>\n",
       "    <tr>\n",
       "      <th>2021-05-03</th>\n",
       "      <td>63654.428571</td>\n",
       "    </tr>\n",
       "    <tr>\n",
       "      <th>2021-05-10</th>\n",
       "      <td>72085.857143</td>\n",
       "    </tr>\n",
       "    <tr>\n",
       "      <th>2021-05-17</th>\n",
       "      <td>68138.571429</td>\n",
       "    </tr>\n",
       "    <tr>\n",
       "      <th>2021-05-24</th>\n",
       "      <td>48600.714286</td>\n",
       "    </tr>\n",
       "    <tr>\n",
       "      <th>2021-05-31</th>\n",
       "      <td>35647.285714</td>\n",
       "    </tr>\n",
       "    <tr>\n",
       "      <th>2021-06-07</th>\n",
       "      <td>26980.571429</td>\n",
       "    </tr>\n",
       "    <tr>\n",
       "      <th>2021-06-14</th>\n",
       "      <td>18106.571429</td>\n",
       "    </tr>\n",
       "  </tbody>\n",
       "</table>\n",
       "</div>"
      ],
      "text/plain": [
       "                        point\n",
       "target_end_date              \n",
       "2021-03-15       50821.714286\n",
       "2021-03-22       39623.714286\n",
       "2021-03-29       43635.714286\n",
       "2021-04-05       44756.000000\n",
       "2021-04-12       38909.571429\n",
       "2021-04-19       43832.428571\n",
       "2021-04-26       62449.571429\n",
       "2021-05-03       63654.428571\n",
       "2021-05-10       72085.857143\n",
       "2021-05-17       68138.571429\n",
       "2021-05-24       48600.714286\n",
       "2021-05-31       35647.285714\n",
       "2021-06-07       26980.571429\n",
       "2021-06-14       18106.571429"
      ]
     },
     "execution_count": 55,
     "metadata": {},
     "output_type": "execute_result"
    }
   ],
   "source": [
    "data_load.get_model_by_date_range(\"COVIDhub-ensemble\", cdc_frames, 4, start=\"2021-03-15\", end = \"2021-06-15\")"
   ]
  },
  {
   "cell_type": "code",
   "execution_count": 60,
   "id": "stupid-complaint",
   "metadata": {},
   "outputs": [
    {
     "name": "stderr",
     "output_type": "stream",
     "text": [
      "<ipython-input-60-755b3bdc9721>:1: UserWarning: Boolean Series key will be reindexed to match DataFrame index.\n",
      "  cdc_frames[cdc_frames.Model==\"DDS-NBDS\"][cdc_frames.target_end_date==\"2021-04-19\"]\n"
     ]
    },
    {
     "data": {
      "text/html": [
       "<div>\n",
       "<style scoped>\n",
       "    .dataframe tbody tr th:only-of-type {\n",
       "        vertical-align: middle;\n",
       "    }\n",
       "\n",
       "    .dataframe tbody tr th {\n",
       "        vertical-align: top;\n",
       "    }\n",
       "\n",
       "    .dataframe thead th {\n",
       "        text-align: right;\n",
       "    }\n",
       "</style>\n",
       "<table border=\"1\" class=\"dataframe\">\n",
       "  <thead>\n",
       "    <tr style=\"text-align: right;\">\n",
       "      <th></th>\n",
       "      <th>Model</th>\n",
       "      <th>Team Name</th>\n",
       "      <th>forecast_date</th>\n",
       "      <th>target</th>\n",
       "      <th>target_end_date</th>\n",
       "      <th>location_name</th>\n",
       "      <th>State</th>\n",
       "      <th>fips</th>\n",
       "      <th>point</th>\n",
       "      <th>quantile_0.025</th>\n",
       "      <th>quantile_0.25</th>\n",
       "      <th>quantile_0.75</th>\n",
       "      <th>quantile_0.975</th>\n",
       "    </tr>\n",
       "  </thead>\n",
       "  <tbody>\n",
       "    <tr>\n",
       "      <th>5560</th>\n",
       "      <td>DDS-NBDS</td>\n",
       "      <td>Discrete Dynamical Systems</td>\n",
       "      <td>2021-03-29</td>\n",
       "      <td>3 wk ahead inc case</td>\n",
       "      <td>2021-04-19</td>\n",
       "      <td>National</td>\n",
       "      <td>National</td>\n",
       "      <td>US</td>\n",
       "      <td>2.632914e+06</td>\n",
       "      <td>248882.0</td>\n",
       "      <td>872625.0</td>\n",
       "      <td>4205763.0</td>\n",
       "      <td>37357154.0</td>\n",
       "    </tr>\n",
       "    <tr>\n",
       "      <th>5971</th>\n",
       "      <td>DDS-NBDS</td>\n",
       "      <td>Discrete Dynamical Systems</td>\n",
       "      <td>2021-03-22</td>\n",
       "      <td>4 wk ahead inc case</td>\n",
       "      <td>2021-04-19</td>\n",
       "      <td>National</td>\n",
       "      <td>National</td>\n",
       "      <td>US</td>\n",
       "      <td>4.696121e+07</td>\n",
       "      <td>146924.0</td>\n",
       "      <td>313856.0</td>\n",
       "      <td>2430604.0</td>\n",
       "      <td>328728465.0</td>\n",
       "    </tr>\n",
       "  </tbody>\n",
       "</table>\n",
       "</div>"
      ],
      "text/plain": [
       "         Model                   Team Name forecast_date               target  \\\n",
       "5560  DDS-NBDS  Discrete Dynamical Systems    2021-03-29  3 wk ahead inc case   \n",
       "5971  DDS-NBDS  Discrete Dynamical Systems    2021-03-22  4 wk ahead inc case   \n",
       "\n",
       "     target_end_date location_name     State fips         point  \\\n",
       "5560      2021-04-19      National  National   US  2.632914e+06   \n",
       "5971      2021-04-19      National  National   US  4.696121e+07   \n",
       "\n",
       "      quantile_0.025  quantile_0.25  quantile_0.75  quantile_0.975  \n",
       "5560        248882.0       872625.0      4205763.0      37357154.0  \n",
       "5971        146924.0       313856.0      2430604.0     328728465.0  "
      ]
     },
     "execution_count": 60,
     "metadata": {},
     "output_type": "execute_result"
    }
   ],
   "source": [
    "cdc_frames[cdc_frames.Model==\"DDS-NBDS\"][cdc_frames.target_end_date==\"2021-04-19\"]"
   ]
  },
  {
   "cell_type": "code",
   "execution_count": null,
   "id": "industrial-appraisal",
   "metadata": {},
   "outputs": [],
   "source": []
  }
 ],
 "metadata": {
  "kernelspec": {
   "display_name": "Python 3",
   "language": "python",
   "name": "python3"
  },
  "language_info": {
   "codemirror_mode": {
    "name": "ipython",
    "version": 3
   },
   "file_extension": ".py",
   "mimetype": "text/x-python",
   "name": "python",
   "nbconvert_exporter": "python",
   "pygments_lexer": "ipython3",
   "version": "3.8.5"
  }
 },
 "nbformat": 4,
 "nbformat_minor": 5
}
