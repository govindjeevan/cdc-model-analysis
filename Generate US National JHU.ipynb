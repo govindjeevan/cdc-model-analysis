{
 "cells": [
  {
   "cell_type": "code",
   "execution_count": 1,
   "id": "creative-lebanon",
   "metadata": {},
   "outputs": [],
   "source": [
    "import pandas as pd\n",
    "import glob\n",
    "import matplotlib.pyplot as plt \n"
   ]
  },
  {
   "cell_type": "code",
   "execution_count": 17,
   "id": "nonprofit-seeking",
   "metadata": {},
   "outputs": [],
   "source": [
    "path = 'COVID-19/csse_covid_19_data/csse_covid_19_daily_reports_us'\n",
    "all_files = glob.glob(path + \"/*.csv\")"
   ]
  },
  {
   "cell_type": "code",
   "execution_count": 18,
   "id": "round-sodium",
   "metadata": {},
   "outputs": [],
   "source": [
    "a =all_files[0].split(\"/\")[-1].replace(\".csv\", \"\")"
   ]
  },
  {
   "cell_type": "code",
   "execution_count": 19,
   "id": "mineral-housing",
   "metadata": {},
   "outputs": [
    {
     "data": {
      "text/plain": [
       "'05-19-2020'"
      ]
     },
     "execution_count": 19,
     "metadata": {},
     "output_type": "execute_result"
    }
   ],
   "source": [
    "a"
   ]
  },
  {
   "cell_type": "code",
   "execution_count": 20,
   "id": "norman-cycling",
   "metadata": {},
   "outputs": [],
   "source": [
    "from datetime import datetime"
   ]
  },
  {
   "cell_type": "code",
   "execution_count": 21,
   "id": "knowing-better",
   "metadata": {},
   "outputs": [],
   "source": [
    "datetimeobject = datetime.strptime(a,'%m-%d-%Y')"
   ]
  },
  {
   "cell_type": "code",
   "execution_count": 22,
   "id": "promising-commitment",
   "metadata": {},
   "outputs": [
    {
     "data": {
      "text/plain": [
       "'2020-05-19'"
      ]
     },
     "execution_count": 22,
     "metadata": {},
     "output_type": "execute_result"
    }
   ],
   "source": [
    "datetimeobject.strftime('%Y-%m-%d')"
   ]
  },
  {
   "cell_type": "code",
   "execution_count": null,
   "id": "cross-coaching",
   "metadata": {},
   "outputs": [],
   "source": []
  },
  {
   "cell_type": "code",
   "execution_count": 23,
   "id": "sweet-liechtenstein",
   "metadata": {},
   "outputs": [],
   "source": [
    "data = []\n",
    "prev = 0 \n",
    "for filename in all_files:\n",
    "    df = pd.read_csv(filename, index_col=None, header=0)\n",
    "    date = filename.split(\"/\")[-1].replace(\".csv\", \"\")\n",
    "    datetimeobject = datetime.strptime(date,'%m-%d-%Y')\n",
    "    cur = df[\"Confirmed\"].sum()\n",
    "    tmp = [datetimeobject.strftime('%Y-%m-%d'), cur]\n",
    "    data.append(tmp)"
   ]
  },
  {
   "cell_type": "code",
   "execution_count": 24,
   "id": "great-jaguar",
   "metadata": {},
   "outputs": [],
   "source": [
    "us_df = pd.DataFrame(data, columns = ['Date', 'Confirmed'])"
   ]
  },
  {
   "cell_type": "code",
   "execution_count": 25,
   "id": "neural-painting",
   "metadata": {},
   "outputs": [],
   "source": [
    "us_df = us_df.set_index(\"Date\").sort_index()"
   ]
  },
  {
   "cell_type": "code",
   "execution_count": 26,
   "id": "fancy-theorem",
   "metadata": {},
   "outputs": [],
   "source": [
    "us_df[\"NewCases\"] = us_df[\"Confirmed\"] - us_df[\"Confirmed\"] "
   ]
  },
  {
   "cell_type": "code",
   "execution_count": 27,
   "id": "overall-jonathan",
   "metadata": {},
   "outputs": [],
   "source": [
    "us_df[\"NewCases\"] = us_df.Confirmed.diff()"
   ]
  },
  {
   "cell_type": "code",
   "execution_count": 28,
   "id": "broad-nature",
   "metadata": {},
   "outputs": [],
   "source": [
    "us_df.to_csv(\"jhu-us.csv\")"
   ]
  },
  {
   "cell_type": "code",
   "execution_count": 30,
   "id": "unique-helicopter",
   "metadata": {},
   "outputs": [
    {
     "data": {
      "text/plain": [
       "<AxesSubplot:xlabel='Date'>"
      ]
     },
     "execution_count": 30,
     "metadata": {},
     "output_type": "execute_result"
    },
    {
     "data": {
      "image/png": "[encoded data removed]",
      "text/plain": [
       "<Figure size 432x288 with 1 Axes>"
      ]
     },
     "metadata": {
      "needs_background": "light"
     },
     "output_type": "display_data"
    }
   ],
   "source": [
    "us_df[\"NewCases\"].plot()"
   ]
  },
  {
   "cell_type": "code",
   "execution_count": null,
   "id": "similar-graduation",
   "metadata": {},
   "outputs": [],
   "source": []
  }
 ],
 "metadata": {
  "kernelspec": {
   "display_name": "Python 3",
   "language": "python",
   "name": "python3"
  },
  "language_info": {
   "codemirror_mode": {
    "name": "ipython",
    "version": 3
   },
   "file_extension": ".py",
   "mimetype": "text/x-python",
   "name": "python",
   "nbconvert_exporter": "python",
   "pygments_lexer": "ipython3",
   "version": "3.8.5"
  }
 },
 "nbformat": 4,
 "nbformat_minor": 5
}
