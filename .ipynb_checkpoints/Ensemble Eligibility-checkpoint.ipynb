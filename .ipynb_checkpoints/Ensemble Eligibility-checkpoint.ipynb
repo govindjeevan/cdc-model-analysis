{
 "cells": [
  {
   "cell_type": "code",
   "execution_count": 5,
   "id": "premium-graphic",
   "metadata": {},
   "outputs": [],
   "source": [
    "import numpy as np\n",
    "import pandas as pd\n",
    "import glob\n",
    "import matplotlib.pyplot as plt \n"
   ]
  },
  {
   "cell_type": "code",
   "execution_count": 42,
   "id": "northern-anthropology",
   "metadata": {},
   "outputs": [
    {
     "name": "stderr",
     "output_type": "stream",
     "text": [
      "/opt/conda/lib/python3.8/site-packages/IPython/core/interactiveshell.py:3155: DtypeWarning: Columns (0) have mixed types.Specify dtype option on import or set low_memory=False.\n",
      "  has_raised = await self.run_ast_nodes(code_ast.body, cell_name,\n"
     ]
    }
   ],
   "source": [
    "path = 'ensemble-metadata'\n",
    "all_files = glob.glob(path + \"/*inc_case-model-eligibility.csv\")\n",
    "\n",
    "li = []\n",
    "for filename in all_files:\n",
    "    df = pd.read_csv(filename, index_col=None, header=0)\n",
    "    date = \"-\".join(filename.split(\"/\")[-1].split(\"-\")[:3])\n",
    "    df = df[(df.location==\"US\") & (df.overall_eligibility==\"eligible\")][[\"model\", \"overall_eligibility\"]]\n",
    "    df[\"forecast_date\"]=date\n",
    "    li.append(df)\n",
    "frame = pd.concat(li, axis=0, ignore_index=True)"
   ]
  },
  {
   "cell_type": "code",
   "execution_count": 43,
   "id": "specialized-november",
   "metadata": {},
   "outputs": [
    {
     "data": {
      "text/html": [
       "<div>\n",
       "<style scoped>\n",
       "    .dataframe tbody tr th:only-of-type {\n",
       "        vertical-align: middle;\n",
       "    }\n",
       "\n",
       "    .dataframe tbody tr th {\n",
       "        vertical-align: top;\n",
       "    }\n",
       "\n",
       "    .dataframe thead th {\n",
       "        text-align: right;\n",
       "    }\n",
       "</style>\n",
       "<table border=\"1\" class=\"dataframe\">\n",
       "  <thead>\n",
       "    <tr style=\"text-align: right;\">\n",
       "      <th></th>\n",
       "      <th>model</th>\n",
       "      <th>overall_eligibility</th>\n",
       "      <th>forecast_date</th>\n",
       "    </tr>\n",
       "  </thead>\n",
       "  <tbody>\n",
       "    <tr>\n",
       "      <th>0</th>\n",
       "      <td>BPagano-RtDriven</td>\n",
       "      <td>eligible</td>\n",
       "      <td>2020-11-16</td>\n",
       "    </tr>\n",
       "    <tr>\n",
       "      <th>1</th>\n",
       "      <td>CEID-Walk</td>\n",
       "      <td>eligible</td>\n",
       "      <td>2020-11-16</td>\n",
       "    </tr>\n",
       "    <tr>\n",
       "      <th>2</th>\n",
       "      <td>Columbia_UNC-SurvCon</td>\n",
       "      <td>eligible</td>\n",
       "      <td>2020-11-16</td>\n",
       "    </tr>\n",
       "    <tr>\n",
       "      <th>3</th>\n",
       "      <td>CovidAnalytics-DELPHI</td>\n",
       "      <td>eligible</td>\n",
       "      <td>2020-11-16</td>\n",
       "    </tr>\n",
       "    <tr>\n",
       "      <th>4</th>\n",
       "      <td>COVIDhub-baseline</td>\n",
       "      <td>eligible</td>\n",
       "      <td>2020-11-16</td>\n",
       "    </tr>\n",
       "    <tr>\n",
       "      <th>...</th>\n",
       "      <td>...</td>\n",
       "      <td>...</td>\n",
       "      <td>...</td>\n",
       "    </tr>\n",
       "    <tr>\n",
       "      <th>1260</th>\n",
       "      <td>LANL-GrowthRate</td>\n",
       "      <td>eligible</td>\n",
       "      <td>2020-08-17</td>\n",
       "    </tr>\n",
       "    <tr>\n",
       "      <th>1261</th>\n",
       "      <td>LNQ-ens1</td>\n",
       "      <td>eligible</td>\n",
       "      <td>2020-08-17</td>\n",
       "    </tr>\n",
       "    <tr>\n",
       "      <th>1262</th>\n",
       "      <td>RobertWalraven-ESG</td>\n",
       "      <td>eligible</td>\n",
       "      <td>2020-08-17</td>\n",
       "    </tr>\n",
       "    <tr>\n",
       "      <th>1263</th>\n",
       "      <td>UCLA-SuEIR</td>\n",
       "      <td>eligible</td>\n",
       "      <td>2020-08-17</td>\n",
       "    </tr>\n",
       "    <tr>\n",
       "      <th>1264</th>\n",
       "      <td>USACE-ERDC_SEIR</td>\n",
       "      <td>eligible</td>\n",
       "      <td>2020-08-17</td>\n",
       "    </tr>\n",
       "  </tbody>\n",
       "</table>\n",
       "<p>1265 rows × 3 columns</p>\n",
       "</div>"
      ],
      "text/plain": [
       "                      model overall_eligibility forecast_date\n",
       "0          BPagano-RtDriven            eligible    2020-11-16\n",
       "1                 CEID-Walk            eligible    2020-11-16\n",
       "2      Columbia_UNC-SurvCon            eligible    2020-11-16\n",
       "3     CovidAnalytics-DELPHI            eligible    2020-11-16\n",
       "4         COVIDhub-baseline            eligible    2020-11-16\n",
       "...                     ...                 ...           ...\n",
       "1260        LANL-GrowthRate            eligible    2020-08-17\n",
       "1261               LNQ-ens1            eligible    2020-08-17\n",
       "1262     RobertWalraven-ESG            eligible    2020-08-17\n",
       "1263             UCLA-SuEIR            eligible    2020-08-17\n",
       "1264        USACE-ERDC_SEIR            eligible    2020-08-17\n",
       "\n",
       "[1265 rows x 3 columns]"
      ]
     },
     "execution_count": 43,
     "metadata": {},
     "output_type": "execute_result"
    }
   ],
   "source": [
    "frame"
   ]
  },
  {
   "cell_type": "code",
   "execution_count": 65,
   "id": "acknowledged-provision",
   "metadata": {},
   "outputs": [],
   "source": []
  },
  {
   "cell_type": "code",
   "execution_count": 66,
   "id": "convenient-image",
   "metadata": {},
   "outputs": [
    {
     "data": {
      "text/plain": [
       "True"
      ]
     },
     "execution_count": 66,
     "metadata": {},
     "output_type": "execute_result"
    }
   ],
   "source": [
    "check_eligiblity(frame, \"CovidAnalytics-DELPHI\", \"2020-11-16\")"
   ]
  },
  {
   "cell_type": "code",
   "execution_count": null,
   "id": "gross-military",
   "metadata": {},
   "outputs": [],
   "source": []
  }
 ],
 "metadata": {
  "kernelspec": {
   "display_name": "Python 3",
   "language": "python",
   "name": "python3"
  },
  "language_info": {
   "codemirror_mode": {
    "name": "ipython",
    "version": 3
   },
   "file_extension": ".py",
   "mimetype": "text/x-python",
   "name": "python",
   "nbconvert_exporter": "python",
   "pygments_lexer": "ipython3",
   "version": "3.8.5"
  }
 },
 "nbformat": 4,
 "nbformat_minor": 5
}
